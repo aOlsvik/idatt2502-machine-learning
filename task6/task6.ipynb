{
 "cells": [
  {
   "cell_type": "markdown",
   "metadata": {},
   "source": [
    "\n",
    "# Exercise 6\n",
    "\n",
    "For this exercise you can use either Python with sklearn or Weka.\n",
    "\n",
    "* Using the UCI mushroom dataset from the last exercise, perform a feature selection using a classifier evaluator. Which features are most discriminitave?\n",
    "* Use principal components analysis to construct a reduced space. Which combination of features explain the most variance in the dataset?\n",
    "* Do you see any overlap between the PCA features and those obtained from feature selection?"
   ]
  },
  {
   "cell_type": "code",
   "execution_count": 97,
   "metadata": {},
   "outputs": [],
   "source": [
    "import pandas as pd\n",
    "import numpy as np"
   ]
  },
  {
   "cell_type": "code",
   "execution_count": 137,
   "metadata": {},
   "outputs": [
    {
     "data": {
      "text/plain": [
       "((8124, 117), (8124, 2))"
      ]
     },
     "execution_count": 137,
     "metadata": {},
     "output_type": "execute_result"
    }
   ],
   "source": [
    "# Load the dataset, treating the first row as column names\n",
    "df = pd.read_csv(\"agaricus-lepiota.data\", header=0)\n",
    "\n",
    "# Split the dataset into X and y\n",
    "X_category = df.drop(columns=[\"edibility\"])  # X contains all features except the target variable\n",
    "y_category = df[\"edibility\"]  # y is the target variable\n",
    "\n",
    "# Convert the categorical features to numerical features\n",
    "X = pd.get_dummies(X_category)\n",
    "y = pd.get_dummies(y_category)\n",
    "\n",
    "X.shape, y.shape"
   ]
  },
  {
   "cell_type": "markdown",
   "metadata": {},
   "source": [
    "## 6.1"
   ]
  },
  {
   "cell_type": "code",
   "execution_count": 138,
   "metadata": {},
   "outputs": [
    {
     "name": "stdout",
     "output_type": "stream",
     "text": [
      "(8124, 5)\n",
      "5 most descriptive features for edibility are: \n",
      "odor_f\n",
      "odor_n\n",
      "gill-color_b\n",
      "stalk-surface-above-ring_k\n",
      "stalk-surface-below-ring_k\n"
     ]
    }
   ],
   "source": [
    "from sklearn.feature_selection import SelectKBest\n",
    "from sklearn.feature_selection import chi2\n",
    "\n",
    "skb = SelectKBest(chi2, k=5)\n",
    "skb.fit(X, y)\n",
    "X_new = skb.transform(X)\n",
    "\n",
    "print(X_new.shape)\n",
    "\n",
    "# Fetch the selected feature indices and print the corresponding feature names\n",
    "print('5 most descriptive features for edibility are: ')\n",
    "descriptive_features = []\n",
    "for feature in np.array(X.columns)[skb.get_support(indices=True)]:\n",
    "    descriptive_features.append(feature)\n",
    "    print(feature)"
   ]
  },
  {
   "cell_type": "code",
   "execution_count": 142,
   "metadata": {},
   "outputs": [
    {
     "name": "stdout",
     "output_type": "stream",
     "text": [
      "Original space: (8124, 117)\n",
      "PCA space: (8124, 5)\n",
      "bruises?_f\n",
      "spore-print-color_h\n",
      "habitat_g\n",
      "stalk-shape_t\n",
      "odor_n\n"
     ]
    }
   ],
   "source": [
    "from sklearn import decomposition\n",
    "\n",
    "print(\"Original space:\",X.shape)\n",
    "pca = decomposition.PCA(n_components=5)\n",
    "pca.fit(X)\n",
    "Xpca = pca.transform(X)\n",
    "\n",
    "print(\"PCA space:\",Xpca.shape)\n",
    "\n",
    "# use pca to find the most \n",
    "\n",
    "pca_features = []\n",
    "for feature in np.array(X.columns)[np.argmax(pca.components_, axis=1)]:\n",
    "    pca_features.append(feature)\n",
    "    print(feature)\n"
   ]
  },
  {
   "cell_type": "markdown",
   "metadata": {},
   "source": [
    "## 6.3"
   ]
  },
  {
   "cell_type": "code",
   "execution_count": 143,
   "metadata": {},
   "outputs": [
    {
     "name": "stdout",
     "output_type": "stream",
     "text": [
      "Common features are: \n",
      "odor_n\n"
     ]
    }
   ],
   "source": [
    "common_elements = set(descriptive_features).intersection(pca_features)\n",
    "print('Common features are: ')\n",
    "for feature in common_elements:\n",
    "    print(feature)"
   ]
  },
  {
   "cell_type": "code",
   "execution_count": null,
   "metadata": {},
   "outputs": [],
   "source": []
  }
 ],
 "metadata": {
  "kernelspec": {
   "display_name": "Python 3",
   "language": "python",
   "name": "python3"
  },
  "language_info": {
   "codemirror_mode": {
    "name": "ipython",
    "version": 3
   },
   "file_extension": ".py",
   "mimetype": "text/x-python",
   "name": "python",
   "nbconvert_exporter": "python",
   "pygments_lexer": "ipython3",
   "version": "3.9.7"
  },
  "orig_nbformat": 4
 },
 "nbformat": 4,
 "nbformat_minor": 2
}
